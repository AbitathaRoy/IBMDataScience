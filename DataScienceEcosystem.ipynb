{
  "nbformat": 4,
  "nbformat_minor": 0,
  "metadata": {
    "colab": {
      "provenance": [],
      "authorship_tag": "ABX9TyPUtzMpBeSgOtSTTVHZXfaE",
      "include_colab_link": true
    },
    "kernelspec": {
      "name": "python3",
      "display_name": "Python 3"
    },
    "language_info": {
      "name": "python"
    }
  },
  "cells": [
    {
      "cell_type": "markdown",
      "metadata": {
        "id": "view-in-github",
        "colab_type": "text"
      },
      "source": [
        "<a href=\"https://colab.research.google.com/github/AbitathaRoy/IBMDataScience/blob/main/DataScienceEcosystem.ipynb\" target=\"_parent\"><img src=\"https://colab.research.google.com/assets/colab-badge.svg\" alt=\"Open In Colab\"/></a>"
      ]
    },
    {
      "cell_type": "markdown",
      "source": [
        "# Data Science Tools and Ecosystem"
      ],
      "metadata": {
        "id": "RLoo_ToCjT4d"
      }
    },
    {
      "cell_type": "markdown",
      "source": [
        "**Objectives:**\n",
        "* Popular languages for Data Science\n",
        "* Commonly used libraries for Data Science\n",
        "* Tools used by Data Scientists\n",
        "* Evaluation of a mathematical expression\n",
        "* Conversion of time given in minutes to hours"
      ],
      "metadata": {
        "id": "xWiaIA-gnfUr"
      }
    },
    {
      "cell_type": "markdown",
      "source": [
        "In this notebook, Data Science Tools and Ecosystem are summarized."
      ],
      "metadata": {
        "id": "sic9SBVtkNC3"
      }
    },
    {
      "cell_type": "markdown",
      "source": [
        "Some of the popular languages that Data Scientists use are:\n",
        "1. Python\n",
        "2. R\n",
        "3. Java\n",
        "4. C++"
      ],
      "metadata": {
        "id": "T4gOOAkrkcGw"
      }
    },
    {
      "cell_type": "markdown",
      "source": [
        "Some of the commonly used libraries used by Data Scientists include:\n",
        "1. Numpy\n",
        "2. Pandas\n",
        "3. Scikit-learn\n",
        "4. TensorFlow"
      ],
      "metadata": {
        "id": "iLEfWtmCk0Fr"
      }
    },
    {
      "cell_type": "markdown",
      "source": [
        "| Data Science Tools |\n",
        "| ------------------ |\n",
        "| Jupyter Notebooks |\n",
        "| RStudio |\n",
        "| Visual Studio Code |"
      ],
      "metadata": {
        "id": "ffY7IiNxldHY"
      }
    },
    {
      "cell_type": "markdown",
      "source": [
        "### Below are a few examples of evaluating arithmetic expressions in Python"
      ],
      "metadata": {
        "id": "5HwefgIgl-U-"
      }
    },
    {
      "cell_type": "code",
      "source": [
        "# This a simple arithmetic expression to mutiply then add integers\n",
        "(3*4)+5"
      ],
      "metadata": {
        "colab": {
          "base_uri": "https://localhost:8080/"
        },
        "id": "LfcDiw6jmcXN",
        "outputId": "62e442c1-59f9-4d17-ced2-e4a35efffcb8"
      },
      "execution_count": 1,
      "outputs": [
        {
          "output_type": "execute_result",
          "data": {
            "text/plain": [
              "17"
            ]
          },
          "metadata": {},
          "execution_count": 1
        }
      ]
    },
    {
      "cell_type": "code",
      "execution_count": 2,
      "metadata": {
        "colab": {
          "base_uri": "https://localhost:8080/"
        },
        "id": "7tYInoPSjFRu",
        "outputId": "507a594c-7c4b-4ec8-d83e-0177e5b5585b"
      },
      "outputs": [
        {
          "output_type": "stream",
          "name": "stdout",
          "text": [
            "200 minutes is equal to 3 hours and 20 minutes\n"
          ]
        }
      ],
      "source": [
        "# This will convert 200 minutes to hours by diving by 60\n",
        "minutes = 200\n",
        "hours = minutes // 60\n",
        "remaining_min = minutes % 60\n",
        "print(f\"{minutes} minutes is equal to {hours} hours and {remaining_min} minutes\")"
      ]
    },
    {
      "cell_type": "markdown",
      "source": [
        "## Author\n",
        "Abitatha Roy"
      ],
      "metadata": {
        "id": "4cWdgvLUoLyI"
      }
    },
    {
      "cell_type": "code",
      "source": [],
      "metadata": {
        "id": "4nxGFPrinPyG"
      },
      "execution_count": null,
      "outputs": []
    }
  ]
}